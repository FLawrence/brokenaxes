{
  "nbformat": 4,
  "metadata": {
    "language_info": {
      "mimetype": "text/x-python",
      "name": "python",
      "nbconvert_exporter": "python",
      "version": "3.5.3",
      "pygments_lexer": "ipython3",
      "file_extension": ".py",
      "codemirror_mode": {
        "name": "ipython",
        "version": 3
      }
    },
    "kernelspec": {
      "language": "python",
      "name": "python3",
      "display_name": "Python 3"
    }
  },
  "nbformat_minor": 0,
  "cells": [
    {
      "cell_type": "code",
      "execution_count": null,
      "source": [
        "%matplotlib inline"
      ],
      "outputs": [],
      "metadata": {
        "collapsed": false
      }
    },
    {
      "cell_type": "markdown",
      "source": [
        "\nLog scales\n==========\n\nBrokenaxe compute automatically the correct layout for a 1:1 scale. However, for\nlogarithmic scales, the 1:1 scale has to be adapted. This is done via the\n`yscale` or `xscale` arguments.\n\n\n"
      ],
      "metadata": {}
    },
    {
      "cell_type": "code",
      "execution_count": null,
      "source": [
        "import matplotlib.pyplot as plt\nfrom brokenaxes import brokenaxes\nimport numpy as np\n\nfig = plt.figure(figsize=(5,5))\nbax = brokenaxes(xlims=((1, 500), (600, 10000)),\n\t     ylims=((1, 500), (600, 10000)),\n\t\t hspace=.15, xscale='log', yscale='log')\n\nx = np.logspace(0.0, 4, 100)\nbax.loglog(x, x, label='$y=x=10^{0}$ to $10^{4}$')\n\nbax.legend(loc='best')\nbax.grid(axis='both', which='major', ls='-')\nbax.grid(axis='both', which='minor', ls='--', alpha=0.4)\nbax.set_xlabel('x')\nbax.set_ylabel('y')\nplt.show()"
      ],
      "outputs": [],
      "metadata": {
        "collapsed": false
      }
    }
  ]
}